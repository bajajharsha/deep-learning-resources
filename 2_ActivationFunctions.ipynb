{
  "nbformat": 4,
  "nbformat_minor": 0,
  "metadata": {
    "colab": {
      "provenance": [],
      "authorship_tag": "ABX9TyOOajqB8jjogctVsEm+wwZZ",
      "include_colab_link": true
    },
    "kernelspec": {
      "name": "python3",
      "display_name": "Python 3"
    },
    "language_info": {
      "name": "python"
    }
  },
  "cells": [
    {
      "cell_type": "markdown",
      "metadata": {
        "id": "view-in-github",
        "colab_type": "text"
      },
      "source": [
        "<a href=\"https://colab.research.google.com/github/bajajharsha/deep-learning-resources/blob/main/2_ActivationFunctions.ipynb\" target=\"_parent\"><img src=\"https://colab.research.google.com/assets/colab-badge.svg\" alt=\"Open In Colab\"/></a>"
      ]
    },
    {
      "cell_type": "markdown",
      "source": [
        "# Sigmoid"
      ],
      "metadata": {
        "id": "iU4o0p7L9ZAO"
      }
    },
    {
      "cell_type": "code",
      "execution_count": null,
      "metadata": {
        "id": "fMEfnNE49TBu"
      },
      "outputs": [],
      "source": [
        "import math\n",
        "\n",
        "def sigmoid(x):\n",
        "  return 1 / (1 + math.exp(-x))"
      ]
    },
    {
      "cell_type": "code",
      "source": [
        "sigmoid(100)"
      ],
      "metadata": {
        "colab": {
          "base_uri": "https://localhost:8080/"
        },
        "id": "gAJHvqs19da8",
        "outputId": "3b42710b-120b-4ee3-99d8-7dced05185e0"
      },
      "execution_count": null,
      "outputs": [
        {
          "output_type": "execute_result",
          "data": {
            "text/plain": [
              "1.0"
            ]
          },
          "metadata": {},
          "execution_count": 3
        }
      ]
    },
    {
      "cell_type": "code",
      "source": [
        "sigmoid(-56)"
      ],
      "metadata": {
        "colab": {
          "base_uri": "https://localhost:8080/"
        },
        "id": "gDB6zUlQ9kjA",
        "outputId": "0cc84f3d-aa08-425b-edcc-88be07879ec6"
      },
      "execution_count": null,
      "outputs": [
        {
          "output_type": "execute_result",
          "data": {
            "text/plain": [
              "4.780892883885469e-25"
            ]
          },
          "metadata": {},
          "execution_count": 4
        }
      ]
    },
    {
      "cell_type": "markdown",
      "source": [
        "# tanh\n",
        "\n"
      ],
      "metadata": {
        "id": "83ZSexxM9YiX"
      }
    },
    {
      "cell_type": "code",
      "source": [
        "def tanh(x):\n",
        "  return (math.exp(x) - math.exp(-x)) / (math.exp(x) + math.exp(-x))"
      ],
      "metadata": {
        "id": "p9tULYQ59rT2"
      },
      "execution_count": null,
      "outputs": []
    },
    {
      "cell_type": "code",
      "source": [
        "tanh(-56)"
      ],
      "metadata": {
        "colab": {
          "base_uri": "https://localhost:8080/"
        },
        "id": "hYmWoAj_9wG6",
        "outputId": "fc584eb5-2ebd-4f42-a1bc-6507bbc58225"
      },
      "execution_count": null,
      "outputs": [
        {
          "output_type": "execute_result",
          "data": {
            "text/plain": [
              "-1.0"
            ]
          },
          "metadata": {},
          "execution_count": 6
        }
      ]
    },
    {
      "cell_type": "code",
      "source": [
        "tanh(1)"
      ],
      "metadata": {
        "colab": {
          "base_uri": "https://localhost:8080/"
        },
        "id": "W583JGHY9yRC",
        "outputId": "a194306b-918d-4c91-ae6d-f20d38cf8dd6"
      },
      "execution_count": null,
      "outputs": [
        {
          "output_type": "execute_result",
          "data": {
            "text/plain": [
              "0.7615941559557649"
            ]
          },
          "metadata": {},
          "execution_count": 7
        }
      ]
    },
    {
      "cell_type": "markdown",
      "source": [
        "# ReLU"
      ],
      "metadata": {
        "id": "o_4PtApM9q1M"
      }
    },
    {
      "cell_type": "code",
      "source": [
        "def relu(x):\n",
        "    return max(0,x)"
      ],
      "metadata": {
        "id": "KV_Ygx3o93Q8"
      },
      "execution_count": null,
      "outputs": []
    },
    {
      "cell_type": "code",
      "source": [
        "relu(4)"
      ],
      "metadata": {
        "id": "sfe8I7S995Dg",
        "outputId": "027d1be1-ff2b-48c2-f799-48905bb0fb8b",
        "colab": {
          "base_uri": "https://localhost:8080/"
        }
      },
      "execution_count": null,
      "outputs": [
        {
          "output_type": "execute_result",
          "data": {
            "text/plain": [
              "4"
            ]
          },
          "metadata": {},
          "execution_count": 9
        }
      ]
    }
  ]
}