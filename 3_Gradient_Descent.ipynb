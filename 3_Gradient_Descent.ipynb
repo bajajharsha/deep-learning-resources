{
  "nbformat": 4,
  "nbformat_minor": 0,
  "metadata": {
    "colab": {
      "provenance": [],
      "authorship_tag": "ABX9TyNHCGJ46cyC9bK7HKntoXpU",
      "include_colab_link": true
    },
    "kernelspec": {
      "name": "python3",
      "display_name": "Python 3"
    },
    "language_info": {
      "name": "python"
    }
  },
  "cells": [
    {
      "cell_type": "markdown",
      "metadata": {
        "id": "view-in-github",
        "colab_type": "text"
      },
      "source": [
        "<a href=\"https://colab.research.google.com/github/bajajharsha/deep-learning-resources/blob/main/3_Gradient_Descent.ipynb\" target=\"_parent\"><img src=\"https://colab.research.google.com/assets/colab-badge.svg\" alt=\"Open In Colab\"/></a>"
      ]
    },
    {
      "cell_type": "markdown",
      "source": [
        "# Implement Gradient Descent For Neural Network (or Logistic Regression)\n",
        "##Predicting if a person would buy life insurnace based on his age using logistic regression\n",
        "Above is a binary logistic regression problem as there are only two possible outcomes (i.e. if person buys insurance or he/she doesn't)."
      ],
      "metadata": {
        "id": "bZEZbaMB3zGF"
      }
    },
    {
      "cell_type": "code",
      "execution_count": 2,
      "metadata": {
        "id": "6XQPjhqk3tn9"
      },
      "outputs": [],
      "source": [
        "import numpy as np\n",
        "import tensorflow as tf\n",
        "from tensorflow import keras\n",
        "import pandas as pd\n",
        "from matplotlib import pyplot as plt\n",
        "%matplotlib inline"
      ]
    },
    {
      "cell_type": "code",
      "source": [
        "df = pd.read_csv(\"insurance_data.csv\")\n",
        "df.head()"
      ],
      "metadata": {
        "colab": {
          "base_uri": "https://localhost:8080/",
          "height": 206
        },
        "id": "RPsGPAXx4Ust",
        "outputId": "1eb05020-d86f-4a08-d1c8-2153541b8c0c"
      },
      "execution_count": 4,
      "outputs": [
        {
          "output_type": "execute_result",
          "data": {
            "text/plain": [
              "   age  affordibility  bought_insurance\n",
              "0   22              1                 0\n",
              "1   25              0                 0\n",
              "2   47              1                 1\n",
              "3   52              0                 0\n",
              "4   46              1                 1"
            ],
            "text/html": [
              "\n",
              "  <div id=\"df-026893db-6623-49e1-86e3-b5eeebc92d0d\" class=\"colab-df-container\">\n",
              "    <div>\n",
              "<style scoped>\n",
              "    .dataframe tbody tr th:only-of-type {\n",
              "        vertical-align: middle;\n",
              "    }\n",
              "\n",
              "    .dataframe tbody tr th {\n",
              "        vertical-align: top;\n",
              "    }\n",
              "\n",
              "    .dataframe thead th {\n",
              "        text-align: right;\n",
              "    }\n",
              "</style>\n",
              "<table border=\"1\" class=\"dataframe\">\n",
              "  <thead>\n",
              "    <tr style=\"text-align: right;\">\n",
              "      <th></th>\n",
              "      <th>age</th>\n",
              "      <th>affordibility</th>\n",
              "      <th>bought_insurance</th>\n",
              "    </tr>\n",
              "  </thead>\n",
              "  <tbody>\n",
              "    <tr>\n",
              "      <th>0</th>\n",
              "      <td>22</td>\n",
              "      <td>1</td>\n",
              "      <td>0</td>\n",
              "    </tr>\n",
              "    <tr>\n",
              "      <th>1</th>\n",
              "      <td>25</td>\n",
              "      <td>0</td>\n",
              "      <td>0</td>\n",
              "    </tr>\n",
              "    <tr>\n",
              "      <th>2</th>\n",
              "      <td>47</td>\n",
              "      <td>1</td>\n",
              "      <td>1</td>\n",
              "    </tr>\n",
              "    <tr>\n",
              "      <th>3</th>\n",
              "      <td>52</td>\n",
              "      <td>0</td>\n",
              "      <td>0</td>\n",
              "    </tr>\n",
              "    <tr>\n",
              "      <th>4</th>\n",
              "      <td>46</td>\n",
              "      <td>1</td>\n",
              "      <td>1</td>\n",
              "    </tr>\n",
              "  </tbody>\n",
              "</table>\n",
              "</div>\n",
              "    <div class=\"colab-df-buttons\">\n",
              "\n",
              "  <div class=\"colab-df-container\">\n",
              "    <button class=\"colab-df-convert\" onclick=\"convertToInteractive('df-026893db-6623-49e1-86e3-b5eeebc92d0d')\"\n",
              "            title=\"Convert this dataframe to an interactive table.\"\n",
              "            style=\"display:none;\">\n",
              "\n",
              "  <svg xmlns=\"http://www.w3.org/2000/svg\" height=\"24px\" viewBox=\"0 -960 960 960\">\n",
              "    <path d=\"M120-120v-720h720v720H120Zm60-500h600v-160H180v160Zm220 220h160v-160H400v160Zm0 220h160v-160H400v160ZM180-400h160v-160H180v160Zm440 0h160v-160H620v160ZM180-180h160v-160H180v160Zm440 0h160v-160H620v160Z\"/>\n",
              "  </svg>\n",
              "    </button>\n",
              "\n",
              "  <style>\n",
              "    .colab-df-container {\n",
              "      display:flex;\n",
              "      gap: 12px;\n",
              "    }\n",
              "\n",
              "    .colab-df-convert {\n",
              "      background-color: #E8F0FE;\n",
              "      border: none;\n",
              "      border-radius: 50%;\n",
              "      cursor: pointer;\n",
              "      display: none;\n",
              "      fill: #1967D2;\n",
              "      height: 32px;\n",
              "      padding: 0 0 0 0;\n",
              "      width: 32px;\n",
              "    }\n",
              "\n",
              "    .colab-df-convert:hover {\n",
              "      background-color: #E2EBFA;\n",
              "      box-shadow: 0px 1px 2px rgba(60, 64, 67, 0.3), 0px 1px 3px 1px rgba(60, 64, 67, 0.15);\n",
              "      fill: #174EA6;\n",
              "    }\n",
              "\n",
              "    .colab-df-buttons div {\n",
              "      margin-bottom: 4px;\n",
              "    }\n",
              "\n",
              "    [theme=dark] .colab-df-convert {\n",
              "      background-color: #3B4455;\n",
              "      fill: #D2E3FC;\n",
              "    }\n",
              "\n",
              "    [theme=dark] .colab-df-convert:hover {\n",
              "      background-color: #434B5C;\n",
              "      box-shadow: 0px 1px 3px 1px rgba(0, 0, 0, 0.15);\n",
              "      filter: drop-shadow(0px 1px 2px rgba(0, 0, 0, 0.3));\n",
              "      fill: #FFFFFF;\n",
              "    }\n",
              "  </style>\n",
              "\n",
              "    <script>\n",
              "      const buttonEl =\n",
              "        document.querySelector('#df-026893db-6623-49e1-86e3-b5eeebc92d0d button.colab-df-convert');\n",
              "      buttonEl.style.display =\n",
              "        google.colab.kernel.accessAllowed ? 'block' : 'none';\n",
              "\n",
              "      async function convertToInteractive(key) {\n",
              "        const element = document.querySelector('#df-026893db-6623-49e1-86e3-b5eeebc92d0d');\n",
              "        const dataTable =\n",
              "          await google.colab.kernel.invokeFunction('convertToInteractive',\n",
              "                                                    [key], {});\n",
              "        if (!dataTable) return;\n",
              "\n",
              "        const docLinkHtml = 'Like what you see? Visit the ' +\n",
              "          '<a target=\"_blank\" href=https://colab.research.google.com/notebooks/data_table.ipynb>data table notebook</a>'\n",
              "          + ' to learn more about interactive tables.';\n",
              "        element.innerHTML = '';\n",
              "        dataTable['output_type'] = 'display_data';\n",
              "        await google.colab.output.renderOutput(dataTable, element);\n",
              "        const docLink = document.createElement('div');\n",
              "        docLink.innerHTML = docLinkHtml;\n",
              "        element.appendChild(docLink);\n",
              "      }\n",
              "    </script>\n",
              "  </div>\n",
              "\n",
              "\n",
              "<div id=\"df-3949dd45-2a69-45d8-84e9-39ad143b3dc4\">\n",
              "  <button class=\"colab-df-quickchart\" onclick=\"quickchart('df-3949dd45-2a69-45d8-84e9-39ad143b3dc4')\"\n",
              "            title=\"Suggest charts\"\n",
              "            style=\"display:none;\">\n",
              "\n",
              "<svg xmlns=\"http://www.w3.org/2000/svg\" height=\"24px\"viewBox=\"0 0 24 24\"\n",
              "     width=\"24px\">\n",
              "    <g>\n",
              "        <path d=\"M19 3H5c-1.1 0-2 .9-2 2v14c0 1.1.9 2 2 2h14c1.1 0 2-.9 2-2V5c0-1.1-.9-2-2-2zM9 17H7v-7h2v7zm4 0h-2V7h2v10zm4 0h-2v-4h2v4z\"/>\n",
              "    </g>\n",
              "</svg>\n",
              "  </button>\n",
              "\n",
              "<style>\n",
              "  .colab-df-quickchart {\n",
              "      --bg-color: #E8F0FE;\n",
              "      --fill-color: #1967D2;\n",
              "      --hover-bg-color: #E2EBFA;\n",
              "      --hover-fill-color: #174EA6;\n",
              "      --disabled-fill-color: #AAA;\n",
              "      --disabled-bg-color: #DDD;\n",
              "  }\n",
              "\n",
              "  [theme=dark] .colab-df-quickchart {\n",
              "      --bg-color: #3B4455;\n",
              "      --fill-color: #D2E3FC;\n",
              "      --hover-bg-color: #434B5C;\n",
              "      --hover-fill-color: #FFFFFF;\n",
              "      --disabled-bg-color: #3B4455;\n",
              "      --disabled-fill-color: #666;\n",
              "  }\n",
              "\n",
              "  .colab-df-quickchart {\n",
              "    background-color: var(--bg-color);\n",
              "    border: none;\n",
              "    border-radius: 50%;\n",
              "    cursor: pointer;\n",
              "    display: none;\n",
              "    fill: var(--fill-color);\n",
              "    height: 32px;\n",
              "    padding: 0;\n",
              "    width: 32px;\n",
              "  }\n",
              "\n",
              "  .colab-df-quickchart:hover {\n",
              "    background-color: var(--hover-bg-color);\n",
              "    box-shadow: 0 1px 2px rgba(60, 64, 67, 0.3), 0 1px 3px 1px rgba(60, 64, 67, 0.15);\n",
              "    fill: var(--button-hover-fill-color);\n",
              "  }\n",
              "\n",
              "  .colab-df-quickchart-complete:disabled,\n",
              "  .colab-df-quickchart-complete:disabled:hover {\n",
              "    background-color: var(--disabled-bg-color);\n",
              "    fill: var(--disabled-fill-color);\n",
              "    box-shadow: none;\n",
              "  }\n",
              "\n",
              "  .colab-df-spinner {\n",
              "    border: 2px solid var(--fill-color);\n",
              "    border-color: transparent;\n",
              "    border-bottom-color: var(--fill-color);\n",
              "    animation:\n",
              "      spin 1s steps(1) infinite;\n",
              "  }\n",
              "\n",
              "  @keyframes spin {\n",
              "    0% {\n",
              "      border-color: transparent;\n",
              "      border-bottom-color: var(--fill-color);\n",
              "      border-left-color: var(--fill-color);\n",
              "    }\n",
              "    20% {\n",
              "      border-color: transparent;\n",
              "      border-left-color: var(--fill-color);\n",
              "      border-top-color: var(--fill-color);\n",
              "    }\n",
              "    30% {\n",
              "      border-color: transparent;\n",
              "      border-left-color: var(--fill-color);\n",
              "      border-top-color: var(--fill-color);\n",
              "      border-right-color: var(--fill-color);\n",
              "    }\n",
              "    40% {\n",
              "      border-color: transparent;\n",
              "      border-right-color: var(--fill-color);\n",
              "      border-top-color: var(--fill-color);\n",
              "    }\n",
              "    60% {\n",
              "      border-color: transparent;\n",
              "      border-right-color: var(--fill-color);\n",
              "    }\n",
              "    80% {\n",
              "      border-color: transparent;\n",
              "      border-right-color: var(--fill-color);\n",
              "      border-bottom-color: var(--fill-color);\n",
              "    }\n",
              "    90% {\n",
              "      border-color: transparent;\n",
              "      border-bottom-color: var(--fill-color);\n",
              "    }\n",
              "  }\n",
              "</style>\n",
              "\n",
              "  <script>\n",
              "    async function quickchart(key) {\n",
              "      const quickchartButtonEl =\n",
              "        document.querySelector('#' + key + ' button');\n",
              "      quickchartButtonEl.disabled = true;  // To prevent multiple clicks.\n",
              "      quickchartButtonEl.classList.add('colab-df-spinner');\n",
              "      try {\n",
              "        const charts = await google.colab.kernel.invokeFunction(\n",
              "            'suggestCharts', [key], {});\n",
              "      } catch (error) {\n",
              "        console.error('Error during call to suggestCharts:', error);\n",
              "      }\n",
              "      quickchartButtonEl.classList.remove('colab-df-spinner');\n",
              "      quickchartButtonEl.classList.add('colab-df-quickchart-complete');\n",
              "    }\n",
              "    (() => {\n",
              "      let quickchartButtonEl =\n",
              "        document.querySelector('#df-3949dd45-2a69-45d8-84e9-39ad143b3dc4 button');\n",
              "      quickchartButtonEl.style.display =\n",
              "        google.colab.kernel.accessAllowed ? 'block' : 'none';\n",
              "    })();\n",
              "  </script>\n",
              "</div>\n",
              "\n",
              "    </div>\n",
              "  </div>\n"
            ],
            "application/vnd.google.colaboratory.intrinsic+json": {
              "type": "dataframe",
              "variable_name": "df",
              "summary": "{\n  \"name\": \"df\",\n  \"rows\": 28,\n  \"fields\": [\n    {\n      \"column\": \"age\",\n      \"properties\": {\n        \"dtype\": \"number\",\n        \"std\": 15,\n        \"min\": 18,\n        \"max\": 62,\n        \"num_unique_values\": 24,\n        \"samples\": [\n          62,\n          19,\n          22\n        ],\n        \"semantic_type\": \"\",\n        \"description\": \"\"\n      }\n    },\n    {\n      \"column\": \"affordibility\",\n      \"properties\": {\n        \"dtype\": \"number\",\n        \"std\": 0,\n        \"min\": 0,\n        \"max\": 1,\n        \"num_unique_values\": 2,\n        \"samples\": [\n          0,\n          1\n        ],\n        \"semantic_type\": \"\",\n        \"description\": \"\"\n      }\n    },\n    {\n      \"column\": \"bought_insurance\",\n      \"properties\": {\n        \"dtype\": \"number\",\n        \"std\": 0,\n        \"min\": 0,\n        \"max\": 1,\n        \"num_unique_values\": 2,\n        \"samples\": [\n          1,\n          0\n        ],\n        \"semantic_type\": \"\",\n        \"description\": \"\"\n      }\n    }\n  ]\n}"
            }
          },
          "metadata": {},
          "execution_count": 4
        }
      ]
    },
    {
      "cell_type": "code",
      "source": [
        "from sklearn.model_selection import train_test_split\n",
        "X_train, X_test, y_train, y_test = train_test_split(df[['age','affordibility']],df.bought_insurance,test_size=0.2, random_state=25)"
      ],
      "metadata": {
        "id": "MvfZP52d4an9"
      },
      "execution_count": 5,
      "outputs": []
    },
    {
      "cell_type": "code",
      "source": [
        "X_train_scaled = X_train.copy()\n",
        "X_train_scaled['age'] = X_train_scaled['age'] / 100\n",
        "\n",
        "X_test_scaled = X_test.copy()\n",
        "X_test_scaled['age'] = X_test_scaled['age'] / 100"
      ],
      "metadata": {
        "id": "6pIdn5kP4dN_"
      },
      "execution_count": 6,
      "outputs": []
    },
    {
      "cell_type": "markdown",
      "source": [
        "**Model Building:** First build a model in keras/tensorflow and see what weights and bias values it comes up with. We will than try to reproduce same weights and bias in our plain python implementation of gradient descent. Below is the architecture of our simple neural network\n",
        "\n",
        "![image.png](data:image/png;base64,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)"
      ],
      "metadata": {
        "id": "az0VXYCQ4eY6"
      }
    },
    {
      "cell_type": "code",
      "source": [
        "model = keras.Sequential([\n",
        "    keras.layers.Dense(1, input_shape=(2,), activation='sigmoid', kernel_initializer='ones', bias_initializer='zeros')\n",
        "])\n",
        "\n",
        "model.compile(optimizer='adam',\n",
        "              loss='binary_crossentropy',\n",
        "              metrics=['accuracy'])\n",
        "\n",
        "model.fit(X_train_scaled, y_train, epochs=5)"
      ],
      "metadata": {
        "colab": {
          "base_uri": "https://localhost:8080/"
        },
        "id": "k--xEbqe4eD-",
        "outputId": "7e69b204-e35a-4e5d-d5a1-7cbcbc14ae49"
      },
      "execution_count": 7,
      "outputs": [
        {
          "output_type": "stream",
          "name": "stdout",
          "text": [
            "Epoch 1/5\n"
          ]
        },
        {
          "output_type": "stream",
          "name": "stderr",
          "text": [
            "/usr/local/lib/python3.10/dist-packages/keras/src/layers/core/dense.py:87: UserWarning: Do not pass an `input_shape`/`input_dim` argument to a layer. When using Sequential models, prefer using an `Input(shape)` object as the first layer in the model instead.\n",
            "  super().__init__(activity_regularizer=activity_regularizer, **kwargs)\n"
          ]
        },
        {
          "output_type": "stream",
          "name": "stdout",
          "text": [
            "\u001b[1m1/1\u001b[0m \u001b[32m━━━━━━━━━━━━━━━━━━━━\u001b[0m\u001b[37m\u001b[0m \u001b[1m1s\u001b[0m 765ms/step - accuracy: 0.5000 - loss: 0.7113\n",
            "Epoch 2/5\n",
            "\u001b[1m1/1\u001b[0m \u001b[32m━━━━━━━━━━━━━━━━━━━━\u001b[0m\u001b[37m\u001b[0m \u001b[1m0s\u001b[0m 35ms/step - accuracy: 0.5000 - loss: 0.7110\n",
            "Epoch 3/5\n",
            "\u001b[1m1/1\u001b[0m \u001b[32m━━━━━━━━━━━━━━━━━━━━\u001b[0m\u001b[37m\u001b[0m \u001b[1m0s\u001b[0m 29ms/step - accuracy: 0.5000 - loss: 0.7106\n",
            "Epoch 4/5\n",
            "\u001b[1m1/1\u001b[0m \u001b[32m━━━━━━━━━━━━━━━━━━━━\u001b[0m\u001b[37m\u001b[0m \u001b[1m0s\u001b[0m 34ms/step - accuracy: 0.5000 - loss: 0.7102\n",
            "Epoch 5/5\n",
            "\u001b[1m1/1\u001b[0m \u001b[32m━━━━━━━━━━━━━━━━━━━━\u001b[0m\u001b[37m\u001b[0m \u001b[1m0s\u001b[0m 29ms/step - accuracy: 0.5000 - loss: 0.7098\n"
          ]
        },
        {
          "output_type": "execute_result",
          "data": {
            "text/plain": [
              "<keras.src.callbacks.history.History at 0x7dfa49b238e0>"
            ]
          },
          "metadata": {},
          "execution_count": 7
        }
      ]
    },
    {
      "cell_type": "code",
      "source": [
        "model.evaluate(X_test_scaled,y_test)"
      ],
      "metadata": {
        "colab": {
          "base_uri": "https://localhost:8080/"
        },
        "id": "vC0ZyM4C4v-B",
        "outputId": "20534c46-4da6-4096-9db0-d8d251823a39"
      },
      "execution_count": 8,
      "outputs": [
        {
          "output_type": "stream",
          "name": "stdout",
          "text": [
            "\u001b[1m1/1\u001b[0m \u001b[32m━━━━━━━━━━━━━━━━━━━━\u001b[0m\u001b[37m\u001b[0m \u001b[1m0s\u001b[0m 117ms/step - accuracy: 0.5000 - loss: 0.7305\n"
          ]
        },
        {
          "output_type": "execute_result",
          "data": {
            "text/plain": [
              "[0.730549156665802, 0.5]"
            ]
          },
          "metadata": {},
          "execution_count": 8
        }
      ]
    },
    {
      "cell_type": "code",
      "source": [
        "model.predict(X_test_scaled)"
      ],
      "metadata": {
        "id": "1uLgqIV54y6C",
        "outputId": "a0427eea-7337-4733-9789-f3721965d6ed",
        "colab": {
          "base_uri": "https://localhost:8080/"
        }
      },
      "execution_count": 9,
      "outputs": [
        {
          "output_type": "stream",
          "name": "stdout",
          "text": [
            "\u001b[1m1/1\u001b[0m \u001b[32m━━━━━━━━━━━━━━━━━━━━\u001b[0m\u001b[37m\u001b[0m \u001b[1m0s\u001b[0m 61ms/step\n"
          ]
        },
        {
          "output_type": "execute_result",
          "data": {
            "text/plain": [
              "array([[0.8111734 ],\n",
              "       [0.7629826 ],\n",
              "       [0.5630873 ],\n",
              "       [0.78050345],\n",
              "       [0.8142026 ],\n",
              "       [0.8315921 ]], dtype=float32)"
            ]
          },
          "metadata": {},
          "execution_count": 9
        }
      ]
    },
    {
      "cell_type": "code",
      "source": [
        "y_test"
      ],
      "metadata": {
        "id": "a5Mv-RnW42SE",
        "outputId": "3527483f-253b-4d99-87b0-a9f8ff3094b2",
        "colab": {
          "base_uri": "https://localhost:8080/",
          "height": 272
        }
      },
      "execution_count": 10,
      "outputs": [
        {
          "output_type": "execute_result",
          "data": {
            "text/plain": [
              "2     1\n",
              "10    0\n",
              "21    0\n",
              "11    0\n",
              "14    1\n",
              "9     1\n",
              "Name: bought_insurance, dtype: int64"
            ],
            "text/html": [
              "<div>\n",
              "<style scoped>\n",
              "    .dataframe tbody tr th:only-of-type {\n",
              "        vertical-align: middle;\n",
              "    }\n",
              "\n",
              "    .dataframe tbody tr th {\n",
              "        vertical-align: top;\n",
              "    }\n",
              "\n",
              "    .dataframe thead th {\n",
              "        text-align: right;\n",
              "    }\n",
              "</style>\n",
              "<table border=\"1\" class=\"dataframe\">\n",
              "  <thead>\n",
              "    <tr style=\"text-align: right;\">\n",
              "      <th></th>\n",
              "      <th>bought_insurance</th>\n",
              "    </tr>\n",
              "  </thead>\n",
              "  <tbody>\n",
              "    <tr>\n",
              "      <th>2</th>\n",
              "      <td>1</td>\n",
              "    </tr>\n",
              "    <tr>\n",
              "      <th>10</th>\n",
              "      <td>0</td>\n",
              "    </tr>\n",
              "    <tr>\n",
              "      <th>21</th>\n",
              "      <td>0</td>\n",
              "    </tr>\n",
              "    <tr>\n",
              "      <th>11</th>\n",
              "      <td>0</td>\n",
              "    </tr>\n",
              "    <tr>\n",
              "      <th>14</th>\n",
              "      <td>1</td>\n",
              "    </tr>\n",
              "    <tr>\n",
              "      <th>9</th>\n",
              "      <td>1</td>\n",
              "    </tr>\n",
              "  </tbody>\n",
              "</table>\n",
              "</div><br><label><b>dtype:</b> int64</label>"
            ]
          },
          "metadata": {},
          "execution_count": 10
        }
      ]
    },
    {
      "cell_type": "code",
      "source": [
        "w, b = model.get_weights()\n",
        "w,b"
      ],
      "metadata": {
        "colab": {
          "base_uri": "https://localhost:8080/"
        },
        "id": "qPoTMXvhmwnH",
        "outputId": "039f50ad-d773-4329-f031-3076356839ba"
      },
      "execution_count": 12,
      "outputs": [
        {
          "output_type": "execute_result",
          "data": {
            "text/plain": [
              "(array([[0.99500155],\n",
              "        [0.9950011 ]], dtype=float32),\n",
              " array([-0.00499922], dtype=float32))"
            ]
          },
          "metadata": {},
          "execution_count": 12
        }
      ]
    }
  ]
}